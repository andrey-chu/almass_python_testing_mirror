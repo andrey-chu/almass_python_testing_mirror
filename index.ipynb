{
  "cells": [
    {
      "metadata": {},
      "cell_type": "markdown",
      "source": "[Foraging areas, vegetation](Goose_test_notebook.ipynb)<br>\n[Goose weight, energetics](Test_page_2.ipynb)<br>\n[Geo data and AOR](Goose_test_notebook_3.ipynb)<br>\n[Population statistics](Goose_test_notebook_4.ipynb)"
    },
    {
      "metadata": {
        "trusted": false
      },
      "cell_type": "code",
      "source": "## If we are on specific host-- force moving the output dirs to the correct locations\nimport socket\nfrom prepare_env_new import prepare_environment\nmy_hostname=socket.gethostname()\nwork_hostnames = [\"andrey-cfin\"]\ndata_dir = \"~/CLionProjects/GooseTests/run-directory1/\"\nfield_dir =\"~/CLionProjects/GooseTests/ALMaSS_inputs\"\n\nif my_hostname in work_hostnames:\n    prepare_environment(data_dir, field_dir)",
      "execution_count": 2,
      "outputs": [
        {
          "name": "stdout",
          "output_type": "stream",
          "text": "/data/au517882/python_proj/ALMaSS_test_goose3/almass_python_testing/rundir Directory exists: Ignoring\n/data/au517882/python_proj/ALMaSS_test_goose3/almass_python_testing/fielddir Directory exists: Ignoring\n"
        }
      ]
    },
    {
      "metadata": {
        "trusted": true
      },
      "cell_type": "code",
      "source": "## Git checkout (for azure notebooks)\n!git pull",
      "execution_count": 1,
      "outputs": [
        {
          "output_type": "stream",
          "text": "Already up-to-date.\r\n",
          "name": "stdout"
        }
      ]
    },
    {
      "metadata": {
        "trusted": true
      },
      "cell_type": "code",
      "source": "!git ",
      "execution_count": null,
      "outputs": []
    }
  ],
  "metadata": {
    "kernelspec": {
      "name": "python36",
      "display_name": "Python 3.6",
      "language": "python"
    },
    "language_info": {
      "mimetype": "text/x-python",
      "nbconvert_exporter": "python",
      "name": "python",
      "pygments_lexer": "ipython3",
      "version": "3.6.6",
      "file_extension": ".py",
      "codemirror_mode": {
        "version": 3,
        "name": "ipython"
      }
    }
  },
  "nbformat": 4,
  "nbformat_minor": 2
}