{
 "cells": [
  {
   "cell_type": "markdown",
   "metadata": {},
   "source": [
    "[Foraging areas, vegetation](Goose_test_notebook.ipynb)<br>\n",
    "[Goose weight, energetics](Test_page_2.ipynb)<br>\n",
    "[Geo data and AOR](Goose_test_notebook_3.ipynb)<br>\n",
    "[Population statistics](Goose_test_notebook_4.ipynb)"
   ]
  },
  {
   "cell_type": "code",
   "execution_count": 2,
   "metadata": {},
   "outputs": [
    {
     "name": "stdout",
     "output_type": "stream",
     "text": [
      "/data/au517882/python_proj/ALMaSS_test_goose3/almass_python_testing/rundir Directory exists: Ignoring\n",
      "/data/au517882/python_proj/ALMaSS_test_goose3/almass_python_testing/fielddir Directory exists: Ignoring\n"
     ]
    }
   ],
   "source": [
    "## If we are on specific host-- force moving the output dirs to the correct locations\n",
    "import socket\n",
    "from prepare_env_new import prepare_environment\n",
    "my_hostname=socket.gethostname()\n",
    "work_hostnames = [\"andrey-cfin\"]\n",
    "data_dir = \"~/CLionProjects/GooseTests/run-directory1/\"\n",
    "field_dir =\"~/CLionProjects/GooseTests/ALMaSS_inputs\"\n",
    "\n",
    "if my_hostname in work_hostnames:\n",
    "    prepare_environment(data_dir, field_dir)"
   ]
  }
 ],
 "metadata": {
  "kernelspec": {
   "display_name": "goose_test_project",
   "language": "python",
   "name": "goose_test_project"
  },
  "language_info": {
   "codemirror_mode": {
    "name": "ipython",
    "version": 3
   },
   "file_extension": ".py",
   "mimetype": "text/x-python",
   "name": "python",
   "nbconvert_exporter": "python",
   "pygments_lexer": "ipython3",
   "version": "3.6.9"
  }
 },
 "nbformat": 4,
 "nbformat_minor": 2
}
